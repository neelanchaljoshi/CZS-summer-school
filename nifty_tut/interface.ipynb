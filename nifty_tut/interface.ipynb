{
 "cells": [
  {
   "cell_type": "markdown",
   "id": "dee2e127-1070-428d-a66e-69f53755f520",
   "metadata": {},
   "source": [
    "# Introduction to NIFTy (Numerical Information Field Theory)\n"
   ]
  },
  {
   "cell_type": "markdown",
   "id": "a809d2d1-e115-47b8-ae13-561b682291d2",
   "metadata": {},
   "source": [
    "## Imports"
   ]
  },
  {
   "cell_type": "code",
   "execution_count": null,
   "id": "ad65683f-2637-47a4-bc4f-e5937a2df525",
   "metadata": {},
   "outputs": [],
   "source": []
  },
  {
   "cell_type": "markdown",
   "id": "734af952-5949-43d6-86c7-c51398428896",
   "metadata": {},
   "source": [
    "# Important Objects in NIFTy\n",
    "- **Spaces**: Cartesian, 2-Spheres (Healpix, Gauss-Legendre) and their respective harmonic spaces.\n",
    "- **Fields**: Defined on spaces.\n",
    "- **Operators**: Acting on fields."
   ]
  },
  {
   "cell_type": "markdown",
   "id": "ba388a30-d5fe-490d-baa4-89909cca7377",
   "metadata": {},
   "source": [
    "### Spaces"
   ]
  },
  {
   "cell_type": "markdown",
   "id": "8363e44e-f534-4994-8cd3-42c2b2d42360",
   "metadata": {},
   "source": [
    "#### RGSpace or Cartesian Space"
   ]
  },
  {
   "cell_type": "code",
   "execution_count": null,
   "id": "ef51014d-06dd-4b6f-9ed3-5e8acf03ff43",
   "metadata": {},
   "outputs": [],
   "source": [
    "# Set up a Space  with some shape and distances"
   ]
  },
  {
   "cell_type": "code",
   "execution_count": null,
   "id": "6639dcb0-23ba-4d10-9c62-ef1ff6cbfbae",
   "metadata": {},
   "outputs": [],
   "source": [
    "# shape / distances / total_volume / scalar_dvol"
   ]
  },
  {
   "cell_type": "markdown",
   "id": "cc860a56-4189-4ebe-acb3-cda48d96d803",
   "metadata": {},
   "source": [
    "#### Unstructed Domain\n",
    "- no distances / volumes"
   ]
  },
  {
   "cell_type": "code",
   "execution_count": null,
   "id": "365884e3-eeee-4ad5-b3f9-76051820b4db",
   "metadata": {},
   "outputs": [],
   "source": []
  },
  {
   "cell_type": "markdown",
   "id": "0220c4ec-bb4f-4768-a947-a1e10367b682",
   "metadata": {},
   "source": [
    "#### Healpix"
   ]
  },
  {
   "cell_type": "code",
   "execution_count": null,
   "id": "bd23a371-122b-4ab4-987e-910dbf66e69d",
   "metadata": {},
   "outputs": [],
   "source": []
  },
  {
   "cell_type": "markdown",
   "id": "af65138a-6b5c-4825-8994-3d709e6c31a4",
   "metadata": {},
   "source": [
    "#### Domain Tuples"
   ]
  },
  {
   "cell_type": "code",
   "execution_count": null,
   "id": "26d757ea-fef6-411a-9863-22e5888adbb0",
   "metadata": {},
   "outputs": [],
   "source": [
    "# Product domains (Domain Tuple / shape / size)"
   ]
  },
  {
   "cell_type": "markdown",
   "id": "5074b08c-da09-418e-9601-895dcdc11b7b",
   "metadata": {},
   "source": [
    "#### MultiDomain"
   ]
  },
  {
   "cell_type": "code",
   "execution_count": null,
   "id": "867f344a-f5e3-453c-be9b-ef76ff2f3c14",
   "metadata": {},
   "outputs": [],
   "source": [
    "# MultiDomain: dictionaries of Domains / size / key"
   ]
  },
  {
   "cell_type": "markdown",
   "id": "9e08f982-0754-48fe-9d38-b9d482149441",
   "metadata": {},
   "source": [
    "## Fields"
   ]
  },
  {
   "cell_type": "code",
   "execution_count": null,
   "id": "646ed8f2-c8d9-4961-9350-5bfa6dc41e91",
   "metadata": {},
   "outputs": [],
   "source": [
    "# from an array\n",
    "# d_arr = np.array([12.1, 4.3, 21., 1110.])"
   ]
  },
  {
   "cell_type": "code",
   "execution_count": null,
   "id": "09d392cf-3b1e-4db7-86b4-601beb167513",
   "metadata": {},
   "outputs": [],
   "source": [
    "# draw standard gaussian distributed random numbers on one of the spaces"
   ]
  },
  {
   "cell_type": "code",
   "execution_count": null,
   "id": "91f984ba-a787-40e8-bdaf-800afe774561",
   "metadata": {},
   "outputs": [],
   "source": [
    "# val / domain / integrate / sum  "
   ]
  },
  {
   "cell_type": "markdown",
   "id": "8a3c9917-ac07-4413-9897-810ffeac3196",
   "metadata": {},
   "source": [
    "# Operators\n",
    "Many Operators are already implemented, but you can also write your own ones."
   ]
  },
  {
   "cell_type": "code",
   "execution_count": null,
   "id": "99480a0d-bf91-4cdf-b003-35396cb69426",
   "metadata": {},
   "outputs": [],
   "source": [
    "# set up field from the array and build a MaskOperator\n",
    "\n",
    "# Mask = np.array([[False, False], [False, True]]) # Mask Response: True -> Pixel gets removed\n",
    "# sp = ift.RGSpace(shape=(2, 2), distances=(1, 1))"
   ]
  },
  {
   "cell_type": "code",
   "execution_count": null,
   "id": "43f57457-2fc4-459e-8f8a-4b915b1d1d15",
   "metadata": {},
   "outputs": [],
   "source": [
    "# domain / target of Operator"
   ]
  },
  {
   "cell_type": "code",
   "execution_count": null,
   "id": "ef52f0f0-0df5-4a32-a289-d7666492a652",
   "metadata": {},
   "outputs": [],
   "source": [
    "# Draw random input on the domain of the Operator and pass through operator "
   ]
  },
  {
   "cell_type": "code",
   "execution_count": null,
   "id": "bf788e68-bd55-4eb5-9de9-bff83f2fa39a",
   "metadata": {},
   "outputs": [],
   "source": [
    "# set up a ScalingOp with some scaling"
   ]
  },
  {
   "cell_type": "code",
   "execution_count": null,
   "id": "a1cc1e32-0e68-42b5-bb64-9a76a764bef6",
   "metadata": {},
   "outputs": [],
   "source": [
    "# Chain Operator"
   ]
  }
 ],
 "metadata": {
  "kernelspec": {
   "display_name": "Python 3 (ipykernel)",
   "language": "python",
   "name": "python3"
  },
  "language_info": {
   "codemirror_mode": {
    "name": "ipython",
    "version": 3
   },
   "file_extension": ".py",
   "mimetype": "text/x-python",
   "name": "python",
   "nbconvert_exporter": "python",
   "pygments_lexer": "ipython3",
   "version": "3.9.13"
  }
 },
 "nbformat": 4,
 "nbformat_minor": 5
}

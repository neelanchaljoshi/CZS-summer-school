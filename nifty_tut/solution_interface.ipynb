{
 "cells": [
  {
   "cell_type": "markdown",
   "id": "dee2e127-1070-428d-a66e-69f53755f520",
   "metadata": {},
   "source": [
    "# Introduction to NIFTy (Numerical Information Field Theory)\n"
   ]
  },
  {
   "cell_type": "markdown",
   "id": "a809d2d1-e115-47b8-ae13-561b682291d2",
   "metadata": {},
   "source": [
    "## Imports"
   ]
  },
  {
   "cell_type": "code",
   "execution_count": 1,
   "id": "ad65683f-2637-47a4-bc4f-e5937a2df525",
   "metadata": {},
   "outputs": [],
   "source": [
    "import nifty8 as ift\n",
    "import numpy as np"
   ]
  },
  {
   "cell_type": "markdown",
   "id": "734af952-5949-43d6-86c7-c51398428896",
   "metadata": {},
   "source": [
    "# Important Objects in NIFTy\n",
    "- **Spaces**: Cartesian, 2-Spheres (Healpix, Gauss-Legendre) and their respective harmonic spaces.\n",
    "- **Fields**: Defined on spaces.\n",
    "- **Operators**: Acting on fields."
   ]
  },
  {
   "cell_type": "markdown",
   "id": "ba388a30-d5fe-490d-baa4-89909cca7377",
   "metadata": {},
   "source": [
    "### Spaces"
   ]
  },
  {
   "cell_type": "markdown",
   "id": "8363e44e-f534-4994-8cd3-42c2b2d42360",
   "metadata": {},
   "source": [
    "#### RGSpace or Cartesian Space"
   ]
  },
  {
   "cell_type": "code",
   "execution_count": 2,
   "id": "ef51014d-06dd-4b6f-9ed3-5e8acf03ff43",
   "metadata": {},
   "outputs": [
    {
     "name": "stdout",
     "output_type": "stream",
     "text": [
      "RGSpace(shape=(2, 3), distances=(1.0, 1.5), harmonic=False)\n"
     ]
    }
   ],
   "source": [
    "# Set up a Space  with some shape and distances\n",
    "rg_sp = ift.RGSpace(shape=(2, 3), distances=(1., 1.5))\n",
    "print(rg_sp)"
   ]
  },
  {
   "cell_type": "code",
   "execution_count": 3,
   "id": "6639dcb0-23ba-4d10-9c62-ef1ff6cbfbae",
   "metadata": {},
   "outputs": [
    {
     "name": "stdout",
     "output_type": "stream",
     "text": [
      "Shape: (2, 3)\n",
      "Distances: (1.0, 1.5)\n",
      "Total_Volume: 9.0\n",
      "Scalar dVolume: 1.5\n"
     ]
    }
   ],
   "source": [
    "# shape / distances / total_volume / scalar_dvol\n",
    "print(\"Shape:\", rg_sp.shape)\n",
    "print(\"Distances:\", rg_sp.distances)\n",
    "print(\"Total_Volume:\", rg_sp.total_volume)\n",
    "print(\"Scalar dVolume:\", rg_sp.scalar_dvol)"
   ]
  },
  {
   "cell_type": "markdown",
   "id": "cc860a56-4189-4ebe-acb3-cda48d96d803",
   "metadata": {},
   "source": [
    "#### Unstructed Domain\n",
    "- no distances / volumes"
   ]
  },
  {
   "cell_type": "code",
   "execution_count": 4,
   "id": "365884e3-eeee-4ad5-b3f9-76051820b4db",
   "metadata": {},
   "outputs": [
    {
     "name": "stdout",
     "output_type": "stream",
     "text": [
      "UnstructuredDomain(shape=(4,))\n"
     ]
    }
   ],
   "source": [
    "u_dom = ift.UnstructuredDomain(4)\n",
    "print(u_dom) "
   ]
  },
  {
   "cell_type": "markdown",
   "id": "0220c4ec-bb4f-4768-a947-a1e10367b682",
   "metadata": {},
   "source": [
    "#### Healpix"
   ]
  },
  {
   "cell_type": "code",
   "execution_count": 5,
   "id": "bd23a371-122b-4ab4-987e-910dbf66e69d",
   "metadata": {},
   "outputs": [
    {
     "name": "stdout",
     "output_type": "stream",
     "text": [
      "HPSpace(nside=128)\n"
     ]
    }
   ],
   "source": [
    "hsp = ift.HPSpace(128)\n",
    "print(hsp)"
   ]
  },
  {
   "cell_type": "markdown",
   "id": "af65138a-6b5c-4825-8994-3d709e6c31a4",
   "metadata": {},
   "source": [
    "#### Domain Tuples"
   ]
  },
  {
   "cell_type": "code",
   "execution_count": 16,
   "id": "867f344a-f5e3-453c-be9b-ef76ff2f3c14",
   "metadata": {},
   "outputs": [
    {
     "name": "stdout",
     "output_type": "stream",
     "text": [
      "DomainTuple, len: 2\n",
      "* RGSpace(shape=(2, 3), distances=(1.0, 1.5), harmonic=False)\n",
      "* UnstructuredDomain(shape=(4,))\n",
      "(2, 3, 4)\n",
      "24\n"
     ]
    }
   ],
   "source": [
    "# Product domains (Domain Tuple / shape / size)\n",
    "dom = ift.makeDomain((rg_sp, u_dom))\n",
    "print(dom)\n",
    "print(dom.shape)\n",
    "print(dom.size)"
   ]
  },
  {
   "cell_type": "markdown",
   "id": "f034ad5d-f61d-461d-ba2a-6583fead5056",
   "metadata": {},
   "source": [
    "#### MultiDomain"
   ]
  },
  {
   "cell_type": "code",
   "execution_count": null,
   "id": "2bb17ab8-8248-43bc-88f8-5d09f938ee40",
   "metadata": {},
   "outputs": [],
   "source": [
    "# MultiDomain: dictionaries of Domains / size / key\n",
    "dom = ift.makeDomain({\"key0\": rg_sp, \"key1\": u_dom})\n",
    "print(dom)\n",
    "print(dom.size)\n",
    "print(dom.keys())"
   ]
  },
  {
   "cell_type": "markdown",
   "id": "9e08f982-0754-48fe-9d38-b9d482149441",
   "metadata": {},
   "source": [
    "## Fields"
   ]
  },
  {
   "cell_type": "code",
   "execution_count": 7,
   "id": "646ed8f2-c8d9-4961-9350-5bfa6dc41e91",
   "metadata": {},
   "outputs": [
    {
     "name": "stdout",
     "output_type": "stream",
     "text": [
      "nifty8.Field instance\n",
      "- domain      = DomainTuple, len: 1\n",
      "* UnstructuredDomain(shape=(4,))\n",
      "- val         = array([  12.1,    4.3,   21. , 1110. ])\n"
     ]
    }
   ],
   "source": [
    "# from an array\n",
    "# d_arr = np.array([12.1, 4.3, 21., 1110.])\n",
    "\n",
    "d_arr = np.array([12.1, 4.3, 21., 1110.])\n",
    "d = ift.makeField(u_dom, d_arr)\n",
    "print(d)"
   ]
  },
  {
   "cell_type": "code",
   "execution_count": 8,
   "id": "09d392cf-3b1e-4db7-86b4-601beb167513",
   "metadata": {},
   "outputs": [
    {
     "name": "stdout",
     "output_type": "stream",
     "text": [
      "nifty8.Field instance\n",
      "- domain      = DomainTuple, len: 1\n",
      "* RGSpace(shape=(2, 3), distances=(1.0, 1.5), harmonic=False)\n",
      "- val         = array([[ 0.30471708, -1.03998411,  0.7504512 ],\n",
      "       [ 0.94056472, -1.95103519, -1.30217951]])\n"
     ]
    }
   ],
   "source": [
    "# draw standard gaussian distributed random numbers on space\n",
    "s = ift.from_random(rg_sp)  \n",
    "print(s)"
   ]
  },
  {
   "cell_type": "code",
   "execution_count": 9,
   "id": "91f984ba-a787-40e8-bdaf-800afe774561",
   "metadata": {},
   "outputs": [],
   "source": [
    "# val / domain / integrate / sum  "
   ]
  },
  {
   "cell_type": "code",
   "execution_count": 10,
   "id": "b0110a6f-6ed4-464b-a322-e546b3449e4e",
   "metadata": {},
   "outputs": [
    {
     "name": "stdout",
     "output_type": "stream",
     "text": [
      "[[ 0.30471708 -1.03998411  0.7504512 ]\n",
      " [ 0.94056472 -1.95103519 -1.30217951]]\n",
      "DomainTuple, len: 1\n",
      "* RGSpace(shape=(2, 3), distances=(1.0, 1.5), harmonic=False)\n",
      "nifty8.Field instance\n",
      "- domain      = DomainTuple, len: 0\n",
      "- val         = array(-3.44619871)\n",
      "nifty8.Field instance\n",
      "- domain      = DomainTuple, len: 0\n",
      "- val         = array(-2.29746581)\n"
     ]
    }
   ],
   "source": [
    "print(s.val)\n",
    "print(s.domain)\n",
    "print(s.integrate())\n",
    "print(s.sum())"
   ]
  },
  {
   "cell_type": "markdown",
   "id": "8a3c9917-ac07-4413-9897-810ffeac3196",
   "metadata": {},
   "source": [
    "# Operators\n",
    "Many Operators are already implemented, but you can also write your own ones."
   ]
  },
  {
   "cell_type": "code",
   "execution_count": 11,
   "id": "99480a0d-bf91-4cdf-b003-35396cb69426",
   "metadata": {},
   "outputs": [],
   "source": [
    "# Mask = np.array([[False, False], [False, True]]) # Mask Response: True -> Pixel gets removed\n",
    "# sp = ift.RGSpace(shape=(2, 2), distances=(1, 1))\n",
    "# set up field and operator\n",
    "\n",
    "Mask = np.array([[False, False], [False, True]]) \n",
    "sp = ift.RGSpace(shape=(2, 2), distances=(1, 1))\n",
    "mask = ift.makeField(sp, Mask)\n",
    "op1 = ift.MaskOperator(mask)"
   ]
  },
  {
   "cell_type": "code",
   "execution_count": 12,
   "id": "43f57457-2fc4-459e-8f8a-4b915b1d1d15",
   "metadata": {},
   "outputs": [
    {
     "name": "stdout",
     "output_type": "stream",
     "text": [
      "MaskOperator\n",
      "DomainTuple, len: 1\n",
      "* RGSpace(shape=(2, 2), distances=(1.0, 1.0), harmonic=False)\n",
      "DomainTuple, len: 1\n",
      "* UnstructuredDomain(shape=(3,))\n"
     ]
    }
   ],
   "source": [
    "# domain / target of Operator\n",
    "print(op1)\n",
    "print(op1.domain)\n",
    "print(op1.target)"
   ]
  },
  {
   "cell_type": "code",
   "execution_count": 13,
   "id": "ef52f0f0-0df5-4a32-a289-d7666492a652",
   "metadata": {},
   "outputs": [
    {
     "name": "stdout",
     "output_type": "stream",
     "text": [
      "Input\n",
      "nifty8.Field instance\n",
      "- domain      = DomainTuple, len: 1\n",
      "* RGSpace(shape=(2, 2), distances=(1.0, 1.0), harmonic=False)\n",
      "- val         = array([[ 0.1278404 , -0.31624259],\n",
      "       [-0.01680116, -0.85304393]])\n",
      "Output\n",
      "nifty8.Field instance\n",
      "- domain      = DomainTuple, len: 1\n",
      "* UnstructuredDomain(shape=(3,))\n",
      "- val         = array([ 0.1278404 , -0.31624259, -0.01680116])\n"
     ]
    }
   ],
   "source": [
    "# Draw random input and pass through operator \n",
    "inp = ift.from_random(op1.domain)\n",
    "print(\"Input\")\n",
    "print(inp)\n",
    "print(\"Output\")\n",
    "print(op1(inp))"
   ]
  },
  {
   "cell_type": "code",
   "execution_count": 14,
   "id": "bf788e68-bd55-4eb5-9de9-bff83f2fa39a",
   "metadata": {},
   "outputs": [],
   "source": [
    "# set up a ScalingOp\n",
    "op2 = ift.ScalingOperator(sp, 2)"
   ]
  },
  {
   "cell_type": "code",
   "execution_count": 15,
   "id": "a1cc1e32-0e68-42b5-bb64-9a76a764bef6",
   "metadata": {},
   "outputs": [],
   "source": [
    "# OpChain\n",
    "op3 = op1 @ op2"
   ]
  }
 ],
 "metadata": {
  "kernelspec": {
   "display_name": "Python 3 (ipykernel)",
   "language": "python",
   "name": "python3"
  },
  "language_info": {
   "codemirror_mode": {
    "name": "ipython",
    "version": 3
   },
   "file_extension": ".py",
   "mimetype": "text/x-python",
   "name": "python",
   "nbconvert_exporter": "python",
   "pygments_lexer": "ipython3",
   "version": "3.10.12"
  }
 },
 "nbformat": 4,
 "nbformat_minor": 5
}

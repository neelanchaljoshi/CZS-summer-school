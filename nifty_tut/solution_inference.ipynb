{
 "cells": [
  {
   "cell_type": "markdown",
   "id": "aa0db5e9-4b43-442b-abb5-cadb3052873c",
   "metadata": {},
   "source": [
    "# Carl Zeiss Summerschool - 2D Inference"
   ]
  },
  {
   "cell_type": "markdown",
   "id": "f6c4dbcd-2ff0-4783-9e0d-8d10b35e88d2",
   "metadata": {},
   "source": [
    "## Imports"
   ]
  },
  {
   "cell_type": "code",
   "execution_count": null,
   "id": "1f871433-9b16-4176-a7be-0f7d912b7009",
   "metadata": {},
   "outputs": [],
   "source": [
    "import nifty8 as ift\n",
    "import numpy as np\n",
    "import matplotlib.pyplot as plt\n",
    "\n",
    "ift.random.push_sseq_from_seed(43)\n",
    "\n",
    "def plot2D(arr, title=\"\"):\n",
    "    plt.imshow(arr, origin=\"lower\")\n",
    "    plt.title(f\"{title}\")\n",
    "    plt.colorbar()"
   ]
  },
  {
   "cell_type": "markdown",
   "id": "b1453e6e-644a-4896-9cf0-b9d07a58ed9d",
   "metadata": {},
   "source": [
    "## Load data"
   ]
  },
  {
   "cell_type": "code",
   "execution_count": null,
   "id": "387c0a2c-393e-4c8d-972f-203b813d0db3",
   "metadata": {},
   "outputs": [],
   "source": [
    "# load data\n",
    "data_raw = np.load(\"data/2D_data.npy\")"
   ]
  },
  {
   "cell_type": "code",
   "execution_count": null,
   "id": "d3aac848-ad13-4f15-8b79-25ab185e3bf7",
   "metadata": {},
   "outputs": [],
   "source": [
    "# plot data\n",
    "plot2D(data_raw, \"Data\")"
   ]
  },
  {
   "cell_type": "markdown",
   "id": "a054487d-ea92-4de3-b9a0-d3fa8d9f2a00",
   "metadata": {},
   "source": [
    "# Set up Space"
   ]
  },
  {
   "cell_type": "code",
   "execution_count": null,
   "id": "88e99241-2e03-4450-aa61-1be0a7e2a8a6",
   "metadata": {},
   "outputs": [],
   "source": [
    "# set up RGSPace [128, 128]\n",
    "sp = ift.RGSpace([128,128])"
   ]
  },
  {
   "cell_type": "code",
   "execution_count": null,
   "id": "99a57324-7bfb-4f3d-8d5c-de623ca67287",
   "metadata": {},
   "outputs": [],
   "source": [
    "# print space\n",
    "print(sp)"
   ]
  },
  {
   "cell_type": "markdown",
   "id": "3faad23c-2e83-4c61-ba2c-62c3c1e221b9",
   "metadata": {},
   "source": [
    "# Set up generative process for a correlated structures"
   ]
  },
  {
   "cell_type": "code",
   "execution_count": null,
   "id": "eb0c676f-1edf-48f6-94e7-65179ce60ff4",
   "metadata": {},
   "outputs": [],
   "source": [
    "# ift.SimpleCorrelatedField?"
   ]
  },
  {
   "cell_type": "code",
   "execution_count": null,
   "id": "61edf2c6-d2a9-458c-be45-19506d67d119",
   "metadata": {},
   "outputs": [],
   "source": [
    "ift.SimpleCorrelatedField?"
   ]
  },
  {
   "cell_type": "code",
   "execution_count": null,
   "id": "9edbb24b-6996-4f98-8c92-5234efa069e7",
   "metadata": {},
   "outputs": [],
   "source": [
    "# kwargs for the SimpleCorrelatedField\n",
    "args = {\n",
    "    'offset_mean': 0.3,\n",
    "    'offset_std': (1e-3, 1e-6),\n",
    "\n",
    "    # Amplitude of field fluctuations\n",
    "    'fluctuations': (1.0, 0.8),  # 1.0, 1e-2\n",
    "\n",
    "    # Exponent of power law power spectrum component\n",
    "    'loglogavgslope': (-3.3, 1),  # -6.0, 1\n",
    "\n",
    "    # Amplitude of integrated Wiener process power spectrum component\n",
    "    'flexibility': (0.5, 0.2),  # 1.0, 0.5\n",
    "\n",
    "    # How ragged the integrated Wiener process component is\n",
    "    'asperity': (0.01, 0.005)  # 0.1, 0.5\n",
    "}"
   ]
  },
  {
   "cell_type": "markdown",
   "id": "501a8369-b45a-4377-8ba6-0b6c99b06869",
   "metadata": {},
   "source": [
    "$$ f = HT( A * z * \\xi ) + o $$\n",
    "\n",
    "$A$: Amplitude Operator  \n",
    "$z$: zeromode  \n",
    "$\\xi$: Exitations  \n",
    "$o$: Offset"
   ]
  },
  {
   "cell_type": "code",
   "execution_count": null,
   "id": "3b9d1b4f-bd1d-4797-afd7-298ea6d57793",
   "metadata": {},
   "outputs": [],
   "source": [
    "# Initialize a lognormal correlated field\n",
    "correlated_field = ift.SimpleCorrelatedField(sp, **args)\n",
    "sky = ift.exp(correlated_field)"
   ]
  },
  {
   "cell_type": "code",
   "execution_count": null,
   "id": "16481116-de5a-4165-a0b6-5f1387cf212c",
   "metadata": {},
   "outputs": [],
   "source": [
    "# get power_spectrum operator from correlated field\n",
    "pspec = correlated_field.power_spectrum"
   ]
  },
  {
   "cell_type": "code",
   "execution_count": null,
   "id": "e11871e5-0a7b-4d8e-9344-997f0ce0a43f",
   "metadata": {},
   "outputs": [],
   "source": [
    "# print some OpChains\n",
    "print(sky)"
   ]
  },
  {
   "cell_type": "markdown",
   "id": "58a8951a-990a-49e6-a67d-da4227111fb3",
   "metadata": {},
   "source": [
    "# Look at Prior Samples"
   ]
  },
  {
   "cell_type": "code",
   "execution_count": null,
   "id": "2e32158a-c63c-4495-9bf7-c03349e65388",
   "metadata": {},
   "outputs": [],
   "source": [
    "# Draw random numbers on domain\n",
    "xi_prior = ift.from_random(correlated_field.domain)\n",
    "xi_prior.val"
   ]
  },
  {
   "cell_type": "code",
   "execution_count": null,
   "id": "6349cc24-42d5-4a2a-aade-198f9b7e161f",
   "metadata": {},
   "outputs": [],
   "source": [
    "# plot xis / power spectrum and prior sample of sky \n",
    "xies = xi_prior[\"xi\"].val\n",
    "plot2D(xies, \"xi\")"
   ]
  },
  {
   "cell_type": "code",
   "execution_count": null,
   "id": "cb969089-f8e6-4dc7-b543-9a125a0d18bc",
   "metadata": {},
   "outputs": [],
   "source": [
    "# Apply correlated_field Operator and power spectrum operator\n",
    "prior_sample = sky(xi_prior)\n",
    "prior_spectrum = pspec.force(xi_prior)"
   ]
  },
  {
   "cell_type": "code",
   "execution_count": null,
   "id": "ff4c6e18-1ab0-42d6-a158-f75604a03404",
   "metadata": {},
   "outputs": [],
   "source": [
    "# plot prior power spectrum\n",
    "plt.plot(prior_spectrum.val)\n",
    "plt.title(\"pspec\")\n",
    "plt.loglog()"
   ]
  },
  {
   "cell_type": "code",
   "execution_count": null,
   "id": "3d61ccf8-bafb-4a32-a661-7ed603770df4",
   "metadata": {},
   "outputs": [],
   "source": [
    "# show prior_sample\n",
    "plot2D(prior_sample.val, \"sky\")"
   ]
  },
  {
   "cell_type": "markdown",
   "id": "9a54f709-d918-4a22-80f6-e527e291ec05",
   "metadata": {},
   "source": [
    "# Data to a field"
   ]
  },
  {
   "cell_type": "code",
   "execution_count": null,
   "id": "1419783b-a352-476f-ac09-11020df0f2b2",
   "metadata": {},
   "outputs": [],
   "source": [
    "# Data into Field and show\n",
    "data = ift.makeField(sp, data_raw)\n",
    "print(data)"
   ]
  },
  {
   "cell_type": "markdown",
   "id": "9663ec10-f185-4764-a4fc-cb2aa3418e87",
   "metadata": {},
   "source": [
    "# The Bayesian Part\n",
    "$$ \\mathcal{P}(s|d) \\propto \\mathcal{P}(d|s)\\mathcal{P}(s)$$\n",
    "$$ \\mathcal{H}(s|d)\\quad \\widehat{=} \\quad \\mathcal{H}(d|s) \\quad + \\quad \\mathcal{H}(s)$$"
   ]
  },
  {
   "cell_type": "markdown",
   "id": "daa0fd42-50bb-42e4-a0b8-d65e0fc47687",
   "metadata": {},
   "source": [
    "$$\\mathcal{H}(d|s) = - \\log (\\mathrm{Poisson})(d|s) = \\sum s - d^\\dagger \\log(s)$$"
   ]
  },
  {
   "cell_type": "code",
   "execution_count": null,
   "id": "974d7bb3-e484-464f-99da-6f4aacf10d2a",
   "metadata": {},
   "outputs": [],
   "source": [
    "log_likelihood = ift.PoissonianEnergy(data)@sky"
   ]
  },
  {
   "cell_type": "markdown",
   "id": "f35771a2-c847-4eaa-af19-0808bffb81af",
   "metadata": {},
   "source": [
    "# IterationController and Minimizer"
   ]
  },
  {
   "cell_type": "code",
   "execution_count": null,
   "id": "1f84fa43-0a62-4233-aab0-1bfc599b4141",
   "metadata": {},
   "outputs": [],
   "source": [
    "ic_sampling = ift.AbsDeltaEnergyController(deltaE=0.05, iteration_limit=100)\n",
    "ic_sampling_nl = ift.AbsDeltaEnergyController(deltaE=0.05, iteration_limit=10)\n",
    "ic_newton = ift.AbsDeltaEnergyController(name='Optimizer', deltaE=0.5, convergence_level=2, iteration_limit=5)\n",
    "\n",
    "minimizer = ift.NewtonCG(ic_newton)\n",
    "minimizer_sampling = (lambda iiter: None if iiter < 3 else ift.NewtonCG(ic_sampling_nl))"
   ]
  },
  {
   "cell_type": "markdown",
   "id": "cb5906c8-2846-40a8-b17b-0d2c0b4f6010",
   "metadata": {},
   "source": [
    "# Optimize KL\n",
    "Perform Inferece:\n",
    "- Maximum a posteriori\n",
    "- Metric Gaussian Variational Inference\n",
    "- Geometric Variational Inference"
   ]
  },
  {
   "cell_type": "code",
   "execution_count": null,
   "id": "139dee57-e0eb-4b3b-80e5-b917c3f116c2",
   "metadata": {},
   "outputs": [],
   "source": [
    "n_iterations = 5\n",
    "n_samples = 5\n",
    "\n",
    "samples = ift.optimize_kl(log_likelihood, n_iterations, n_samples, minimizer, ic_sampling, minimizer_sampling)"
   ]
  },
  {
   "cell_type": "markdown",
   "id": "e6200135-7ee6-4464-9d06-e4d288826777",
   "metadata": {},
   "source": [
    "# Minisanity & Posterior Analysis"
   ]
  },
  {
   "cell_type": "code",
   "execution_count": null,
   "id": "508c0f1d-b77d-400e-9d3b-adec1f176b9d",
   "metadata": {},
   "outputs": [],
   "source": [
    "# What is minisanity?\n",
    "# Calc posterior mean / posterior std from samples \n",
    "post_mean, post_var = samples.sample_stat(sky)\n",
    "post_std = post_var.sqrt()"
   ]
  },
  {
   "cell_type": "code",
   "execution_count": null,
   "id": "04c1c84e-eba8-4b68-827a-870f769a08d5",
   "metadata": {},
   "outputs": [],
   "source": [
    "# Plot posterior mean\n",
    "plot2D(post_mean.val)"
   ]
  },
  {
   "cell_type": "code",
   "execution_count": null,
   "id": "1204330b-8328-4de8-a2df-6470fcdb29ea",
   "metadata": {},
   "outputs": [],
   "source": [
    "# load \"data/2D_GT.npy\" and plot Ground truth \n",
    "truth = np.load(\"data/2D_GT.npy\")\n",
    "plot2D(truth)"
   ]
  },
  {
   "cell_type": "code",
   "execution_count": null,
   "id": "55afe174-6571-43cf-baba-23d8f0bdcf5f",
   "metadata": {},
   "outputs": [],
   "source": [
    "# Posterior Sky Sample List\n",
    "sample_list_sky = list(samples.iterator(sky))"
   ]
  },
  {
   "cell_type": "code",
   "execution_count": null,
   "id": "ca6692c2-170c-4be8-9c8e-5c1ca8b2d9c2",
   "metadata": {},
   "outputs": [],
   "source": [
    "# Plot Sample 4\n",
    "plot2D(sample_list_sky[4].val)"
   ]
  },
  {
   "cell_type": "code",
   "execution_count": null,
   "id": "5288acb7-587c-41a1-92ca-0a220cfcd012",
   "metadata": {},
   "outputs": [],
   "source": [
    "# Posterior Sample List Pspec\n",
    "sample_list_pspec = list(samples.iterator(pspec))"
   ]
  },
  {
   "cell_type": "code",
   "execution_count": null,
   "id": "c6ca86c0-d9f8-4d87-87b2-f6cbd78b16a5",
   "metadata": {},
   "outputs": [],
   "source": [
    "# load true pspec from \"data/pspec.npy\"\n",
    "gt_spec = np.load(\"data/pspec.npy\")"
   ]
  },
  {
   "cell_type": "code",
   "execution_count": null,
   "id": "7ab3df2b-ab5a-44e2-85d4-8b3c4971b67b",
   "metadata": {},
   "outputs": [],
   "source": [
    "# plot posterior power spectrum / gt pspec / prior\n",
    "plt.plot(gt_spec, label=\"Ground Truth\")\n",
    "plt.plot(prior_spectrum.val, label=\"prior spec sample\")\n",
    "for i in range(10):\n",
    "    plt.plot(sample_list_pspec[i].val)\n",
    "plt.legend()\n",
    "plt.title(\"pspec\")\n",
    "plt.loglog()"
   ]
  },
  {
   "cell_type": "markdown",
   "id": "82d58739-b095-4dfa-87d7-238744ad7e16",
   "metadata": {},
   "source": [
    "# More realistic Example - Detector Mask / Exposure"
   ]
  },
  {
   "cell_type": "code",
   "execution_count": null,
   "id": "68174b9e-e380-487c-862c-e8eae737a1df",
   "metadata": {},
   "outputs": [],
   "source": [
    "# Load Data and Exposure and put into fields\n",
    "detector_data = np.load(\"data/2D_detector_data.npy\")\n",
    "detector_exposure = np.load(\"data/2D_detector_exposure.npy\")\n",
    "\n",
    "detector_data_field = ift.makeField(sp, detector_data)\n",
    "detector_exp_field = ift.makeField(sp, detector_exposure)"
   ]
  },
  {
   "cell_type": "code",
   "execution_count": null,
   "id": "ab22a06b-1e76-4d40-a220-63ac22999f22",
   "metadata": {},
   "outputs": [],
   "source": [
    "#plot detector_data and exposure\n",
    "plot2D(detector_data)"
   ]
  },
  {
   "cell_type": "code",
   "execution_count": null,
   "id": "0b77cea6-f3b6-4576-a30d-561f508e5f9a",
   "metadata": {},
   "outputs": [],
   "source": [
    "plot2D(detector_exposure)"
   ]
  },
  {
   "cell_type": "code",
   "execution_count": null,
   "id": "f826ff66-378c-495d-8d4b-5ada8e9ab21a",
   "metadata": {},
   "outputs": [],
   "source": [
    "# detector_exp_field to detector_exp_op\n",
    "detector_exp_op = ift.makeOp(detector_exp_field)"
   ]
  },
  {
   "cell_type": "code",
   "execution_count": null,
   "id": "6074aa42-b706-4c35-8525-0f927ab32793",
   "metadata": {},
   "outputs": [],
   "source": [
    "# Build Boolean Mask for the detector\n",
    "detector_flags = np.ones(detector_exp_field.shape)\n",
    "detector_flags[detector_exposure!=0] = 0\n",
    "mask = ift.MaskOperator(ift.makeField(sp,detector_flags))"
   ]
  },
  {
   "cell_type": "code",
   "execution_count": null,
   "id": "b4190958-5af1-4cbd-96f7-f9e4e54337e3",
   "metadata": {},
   "outputs": [],
   "source": [
    "# plot detector_flags\n",
    "plot2D(detector_flags)"
   ]
  },
  {
   "cell_type": "code",
   "execution_count": null,
   "id": "77ae4814-9888-4ac6-b491-47e2631435e9",
   "metadata": {},
   "outputs": [],
   "source": [
    "# Build your Signal Response\n",
    "signal_response = mask @ detector_exp_op @ sky"
   ]
  },
  {
   "cell_type": "code",
   "execution_count": null,
   "id": "56aa2c3b-0cbc-40f0-9d8a-dadadfee37e7",
   "metadata": {},
   "outputs": [],
   "source": [
    "# Remove flagged data points\n",
    "masked_data = mask(detector_data_field)"
   ]
  },
  {
   "cell_type": "code",
   "execution_count": null,
   "id": "fb995643-07de-4735-aba5-4aac771fa567",
   "metadata": {},
   "outputs": [],
   "source": [
    "# Set up new Likelihood\n",
    "log_likelihood_detector = ift.PoissonianEnergy(masked_data)@signal_response"
   ]
  },
  {
   "cell_type": "code",
   "execution_count": null,
   "id": "1a155740-e6b8-4e78-9b9a-d15535b024c3",
   "metadata": {},
   "outputs": [],
   "source": [
    "# Optimize Kl\n",
    "samples_detector = ift.optimize_kl(log_likelihood_detector, n_iterations, n_samples, minimizer, ic_sampling, minimizer_sampling)"
   ]
  },
  {
   "cell_type": "code",
   "execution_count": null,
   "id": "c7675cf3-4ae2-494c-92cc-e06aed88e644",
   "metadata": {},
   "outputs": [],
   "source": [
    "pmean, pvar = samples_detector.sample_stat(sky)"
   ]
  },
  {
   "cell_type": "code",
   "execution_count": null,
   "id": "9f3e348f-a258-4cd5-a477-f44beaf3d947",
   "metadata": {},
   "outputs": [],
   "source": [
    "pstd = pvar.sqrt()"
   ]
  },
  {
   "cell_type": "code",
   "execution_count": null,
   "id": "7e25da01-15bc-4887-abe1-78771fabdad2",
   "metadata": {},
   "outputs": [],
   "source": [
    "plot2D(pmean.val)"
   ]
  },
  {
   "cell_type": "code",
   "execution_count": null,
   "id": "901594bb-75ea-4713-a7ae-d8fca1152acb",
   "metadata": {},
   "outputs": [],
   "source": [
    "plot2D(pstd.val/pmean.val)#vmin vmax"
   ]
  },
  {
   "cell_type": "code",
   "execution_count": null,
   "id": "d59e0a7b-0082-48ee-9d56-c5926f3c3425",
   "metadata": {},
   "outputs": [],
   "source": [
    "sky_samples = list(samples_detector.iterator(sky))"
   ]
  },
  {
   "cell_type": "code",
   "execution_count": null,
   "id": "50efd830-2eaa-4fb6-a49b-de8f7bdd172c",
   "metadata": {},
   "outputs": [],
   "source": [
    "plot2D(sky_samples[4].val)"
   ]
  },
  {
   "cell_type": "code",
   "execution_count": null,
   "id": "31e303b2-1d84-4177-a6f1-212c36fbce44",
   "metadata": {},
   "outputs": [],
   "source": [
    "plot2D(truth)"
   ]
  },
  {
   "cell_type": "code",
   "execution_count": null,
   "id": "79ce5499-471d-491e-b87f-082566729ff8",
   "metadata": {},
   "outputs": [],
   "source": [
    "sr_mean, _ = samples_detector.sample_stat(signal_response)"
   ]
  },
  {
   "cell_type": "code",
   "execution_count": null,
   "id": "3317e48d-3ebd-4df4-8a59-687bd8750a07",
   "metadata": {},
   "outputs": [],
   "source": [
    "NWR = mask.adjoint((sr_mean - masked_data)/ sr_mean.sqrt())"
   ]
  },
  {
   "cell_type": "code",
   "execution_count": null,
   "id": "20811973-381f-46e1-9c34-0f7a4ec38d4b",
   "metadata": {},
   "outputs": [],
   "source": [
    "plot2D(NWR.val)"
   ]
  }
 ],
 "metadata": {
  "kernelspec": {
   "display_name": "Python 3 (ipykernel)",
   "language": "python",
   "name": "python3"
  },
  "language_info": {
   "codemirror_mode": {
    "name": "ipython",
    "version": 3
   },
   "file_extension": ".py",
   "mimetype": "text/x-python",
   "name": "python",
   "nbconvert_exporter": "python",
   "pygments_lexer": "ipython3",
   "version": "3.10.12"
  }
 },
 "nbformat": 4,
 "nbformat_minor": 5
}
